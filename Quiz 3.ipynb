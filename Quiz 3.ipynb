{
 "cells": [
  {
   "cell_type": "markdown",
   "metadata": {},
   "source": [
    "# Optimization Quiz 3: Transportation / Network / Supply Chain Models\n",
    "***"
   ]
  },
  {
   "cell_type": "markdown",
   "metadata": {},
   "source": [
    "## A company produces coal at four mines and ships to four power plants (P1-P4).  The cost per ton of producing coal and the production capacity (in tons) for each mine are known.  The number of tons of coal demanded by each customer is also known (assume this is a binding constraint...i.e. equal demand).  The cost (in dollars) of shipping a ton of coal from a mine to each plant is also known.  The company wishes to minimize the overall cost (transportation and production).\n",
    "\n",
    "Information:\n",
    "\n",
    "|  .  | p1 | p2 | p3 | p4 | capactiy | cost |\n",
    "|---|---|---|---|---|---|---|\n",
    "| mine1 |9|15|8|10|125|50|\n",
    "| mine2 |7|15|14|12|100|57|\n",
    "| mine3 |5|5|11|12|150|55|\n",
    "| mine4 |3|6|8|11|120|61|\n",
    "| demand|110|115|135|130|---|\n"
   ]
  },
  {
   "cell_type": "markdown",
   "metadata": {},
   "source": [
    "## objective function\n",
    "$$\\begin{array}{rll}\n",
    " \\text{min} & \\sum_{m=1}^{4}\\sum_{p=1}^{4}q_{m,p}*c_m \\\\\n",
    " \\text{s.t.} & \\sum_{m=1}^{4}\\sum_{p=1}^{4}q_{m,p} \\le cap_m \\\\\n",
    " & \\sum_{p=1}^{4}\\sum_{m=1}^{4}q_{p,m} = demand_p\n",
    " \\end{array}\n",
    "$$"
   ]
  },
  {
   "cell_type": "code",
   "execution_count": 16,
   "metadata": {
    "code_folding": []
   },
   "outputs": [],
   "source": [
    "# import and initialize model\n",
    "\n",
    "from gurobipy import *\n",
    "\n",
    "# empty model \n",
    "m = Model()"
   ]
  },
  {
   "cell_type": "code",
   "execution_count": 17,
   "metadata": {
    "code_folding": []
   },
   "outputs": [],
   "source": [
    "# create decision variables \n",
    "\n",
    "q_m1p1 = m.addVar(vtype=GRB.INTEGER, name=\"q_m1p1\")\n",
    "q_m1p2 = m.addVar(vtype=GRB.INTEGER, name=\"q_m1p2\")\n",
    "q_m1p3 = m.addVar(vtype=GRB.INTEGER, name=\"q_m1p3\")\n",
    "q_m1p4 = m.addVar(vtype=GRB.INTEGER, name=\"q_m1p4\")\n",
    "\n",
    "q_m2p1 = m.addVar(vtype=GRB.INTEGER, name=\"q_m2p1\")\n",
    "q_m2p2 = m.addVar(vtype=GRB.INTEGER, name=\"q_m2p2\")\n",
    "q_m2p3 = m.addVar(vtype=GRB.INTEGER, name=\"q_m2p3\")\n",
    "q_m2p4 = m.addVar(vtype=GRB.INTEGER, name=\"q_m2p4\")\n",
    "\n",
    "q_m3p1 = m.addVar(vtype=GRB.INTEGER, name=\"q_m3p1\")\n",
    "q_m3p2 = m.addVar(vtype=GRB.INTEGER, name=\"q_m3p2\")\n",
    "q_m3p3 = m.addVar(vtype=GRB.INTEGER, name=\"q_m3p3\")\n",
    "q_m3p4 = m.addVar(vtype=GRB.INTEGER, name=\"q_m3p4\")\n",
    "\n",
    "q_m4p1 = m.addVar(vtype=GRB.INTEGER, name=\"q_m4p1\")\n",
    "q_m4p2 = m.addVar(vtype=GRB.INTEGER, name=\"q_m4p2\")\n",
    "q_m4p3 = m.addVar(vtype=GRB.INTEGER, name=\"q_m4p3\")\n",
    "q_m4p4 = m.addVar(vtype=GRB.INTEGER, name=\"q_m4p4\")"
   ]
  },
  {
   "cell_type": "code",
   "execution_count": 18,
   "metadata": {
    "code_folding": []
   },
   "outputs": [],
   "source": [
    "# set objective function\n",
    "\n",
    "m.setObjective(\n",
    "    q_m1p1*50 + q_m1p2*50 + q_m1p3*50 + q_m1p4*50 +\n",
    "    q_m2p1*57 + q_m2p2*57 + q_m2p3*57 + q_m2p4*57 +\n",
    "    q_m3p1*55 + q_m3p2*55 + q_m3p3*55 + q_m3p4*55 + \n",
    "    q_m4p1*61 + q_m4p2*61 + q_m4p3*61 + q_m4p4*61, \n",
    "    GRB.MINIMIZE)"
   ]
  },
  {
   "cell_type": "code",
   "execution_count": 19,
   "metadata": {
    "code_folding": []
   },
   "outputs": [],
   "source": [
    "# set constraints\n",
    "cap1 = m.addConstr(\n",
    "    q_m1p1 + q_m1p2 + q_m1p3 + q_m1p4 <= 125\n",
    ")\n",
    "\n",
    "cap2 = m.addConstr(\n",
    "    q_m2p1 + q_m2p2 + q_m2p3 + q_m2p4 <= 100\n",
    ")\n",
    "\n",
    "cap3 = m.addConstr(\n",
    "    q_m3p1 + q_m3p2 + q_m3p3 + q_m3p4 <= 150\n",
    ")\n",
    "\n",
    "cap4 = m.addConstr(\n",
    "    q_m4p1 + q_m4p2 + q_m4p3 + q_m4p4 <= 120\n",
    ")\n",
    "\n",
    "d1 = m.addConstr(\n",
    "    q_m1p1 + q_m2p1 + q_m3p1 + q_m4p1 == 110\n",
    ")\n",
    "\n",
    "d2 = m.addConstr(\n",
    "    q_m1p2 + q_m2p2 + q_m3p2 + q_m4p2 == 115\n",
    ")\n",
    "\n",
    "d3 = m.addConstr(\n",
    "    q_m1p3 + q_m2p3 + q_m3p3 + q_m4p3 == 135\n",
    ")\n",
    "\n",
    "d4 = m.addConstr(\n",
    "    q_m1p4 + q_m2p4 + q_m3p4 + q_m4p4 == 130\n",
    ")\n"
   ]
  },
  {
   "cell_type": "code",
   "execution_count": 20,
   "metadata": {
    "code_folding": [],
    "scrolled": false
   },
   "outputs": [
    {
     "name": "stdout",
     "output_type": "stream",
     "text": [
      "Gurobi Optimizer version 9.0.1 build v9.0.1rc0 (win64)\n",
      "Optimize a model with 8 rows, 16 columns and 32 nonzeros\n",
      "Model fingerprint: 0xf8b1892e\n",
      "Variable types: 0 continuous, 16 integer (0 binary)\n",
      "Coefficient statistics:\n",
      "  Matrix range     [1e+00, 1e+00]\n",
      "  Objective range  [5e+01, 6e+01]\n",
      "  Bounds range     [0e+00, 0e+00]\n",
      "  RHS range        [1e+02, 2e+02]\n",
      "Found heuristic solution: objective 27235.000000\n",
      "Presolve time: 0.01s\n",
      "Presolved: 8 rows, 16 columns, 32 nonzeros\n",
      "Variable types: 0 continuous, 16 integer (0 binary)\n",
      "\n",
      "Root relaxation: objective 2.721500e+04, 12 iterations, 0.00 seconds\n",
      "\n",
      "    Nodes    |    Current Node    |     Objective Bounds      |     Work\n",
      " Expl Unexpl |  Obj  Depth IntInf | Incumbent    BestBd   Gap | It/Node Time\n",
      "\n",
      "*    0     0               0    27215.000000 27215.0000  0.00%     -    0s\n",
      "\n",
      "Explored 0 nodes (12 simplex iterations) in 0.03 seconds\n",
      "Thread count was 4 (of 4 available processors)\n",
      "\n",
      "Solution count 2: 27215 27235 \n",
      "\n",
      "Optimal solution found (tolerance 1.00e-04)\n",
      "Best objective 2.721500000000e+04, best bound 2.721500000000e+04, gap 0.0000%\n",
      "\n",
      "    Variable            X          Obj \n",
      "--------------------------------------\n",
      "      q_m1p1           -0           50 \n",
      "      q_m1p2           -0           50 \n",
      "      q_m1p3            0           50 \n",
      "      q_m1p4          125           50 \n",
      "      q_m2p1           -0           57 \n",
      "      q_m2p2           -0           57 \n",
      "      q_m2p3          100           57 \n",
      "      q_m2p4            0           57 \n",
      "      q_m3p1           -0           55 \n",
      "      q_m3p2          110           55 \n",
      "      q_m3p3           35           55 \n",
      "      q_m3p4            5           55 \n",
      "      q_m4p1          110           61 \n",
      "      q_m4p2            5           61 \n",
      "      q_m4p3           -0           61 \n",
      "      q_m4p4           -0           61 \n",
      "\n",
      "      ObjVal \n",
      "------------\n",
      "       27215 \n"
     ]
    }
   ],
   "source": [
    "# solve model and print solution\n",
    "\n",
    "m.optimize()\n",
    "m.printAttr(['X', 'Obj'])\n",
    "m.printAttr([\"ObjVal\"])"
   ]
  }
 ],
 "metadata": {
  "kernelspec": {
   "display_name": "Python 3",
   "language": "python",
   "name": "python3"
  },
  "language_info": {
   "codemirror_mode": {
    "name": "ipython",
    "version": 3
   },
   "file_extension": ".py",
   "mimetype": "text/x-python",
   "name": "python",
   "nbconvert_exporter": "python",
   "pygments_lexer": "ipython3",
   "version": "3.7.4"
  },
  "toc": {
   "base_numbering": 1,
   "nav_menu": {},
   "number_sections": false,
   "sideBar": true,
   "skip_h1_title": false,
   "title_cell": "Table of Contents",
   "title_sidebar": "Contents",
   "toc_cell": false,
   "toc_position": {},
   "toc_section_display": true,
   "toc_window_display": false
  },
  "varInspector": {
   "cols": {
    "lenName": 16,
    "lenType": 16,
    "lenVar": 40
   },
   "kernels_config": {
    "python": {
     "delete_cmd_postfix": "",
     "delete_cmd_prefix": "del ",
     "library": "var_list.py",
     "varRefreshCmd": "print(var_dic_list())"
    },
    "r": {
     "delete_cmd_postfix": ") ",
     "delete_cmd_prefix": "rm(",
     "library": "var_list.r",
     "varRefreshCmd": "cat(var_dic_list()) "
    }
   },
   "types_to_exclude": [
    "module",
    "function",
    "builtin_function_or_method",
    "instance",
    "_Feature"
   ],
   "window_display": false
  }
 },
 "nbformat": 4,
 "nbformat_minor": 2
}
