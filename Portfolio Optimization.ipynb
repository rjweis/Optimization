{
 "cells": [
  {
   "cell_type": "markdown",
   "metadata": {},
   "source": [
    "# Optimizing a Stock Portfolio\n",
    "***\n",
    " - Using the historical volatility and mean return, optimize the daily stock strategy to minimize the risk for a return of at least 0.05% (assume you must spend all available funds). For this you can assume no transaction costs to buy or sell stocks, so you just need to recommend what percent of a portfolio should be allocated to each stock. \n",
    " - Create the efficient frontier and provide the graph, along with some strategy on portfolio options for different levels of risk\n",
    " \n",
    "Some of the code for this notebook was retrieved from the following [GitHub Repository.](https://github.com/austingriffith94/simple_portfolio_optimization/blob/master/port_opt_nb/port_opt.ipynb)"
   ]
  },
  {
   "cell_type": "markdown",
   "metadata": {},
   "source": [
    "## Objective Function and Constraints  \n",
    "\n",
    "$$\\begin{array}{rll}\n",
    " \\text{min.} & \\mathbf{p \\sigma p^T}  \\\\\n",
    " \\text{s.t.} & \\mathbf{pr^T} \\ge .0005 \\\\\n",
    " & \\mathbf{pj^T} = 1\n",
    " \\end{array}\n",
    "$$"
   ]
  },
  {
   "cell_type": "markdown",
   "metadata": {},
   "source": [
    "$$\n",
    " \\mathbf{p} = \\begin{bmatrix} p_1 & p_2 & p_3 & p_4 & p_5 \\end{bmatrix} \\\\\n",
    "$$  \n",
    "\n",
    "$$\n",
    " \\mathbf{r} = \\begin{bmatrix} r_1 & r_2 & r_3 & r_4 & r_5 \\end{bmatrix} \\\\\n",
    "$$ \n",
    "\n",
    "$$\n",
    " \\mathbf{\\sigma} = \\begin{bmatrix}\n",
    " \\sigma_{11} & \\sigma_{12} & \\sigma_{13} & \\sigma_{14} & \\sigma_{15} \\\\\n",
    " \\sigma_{21} & \\sigma_{22} & \\sigma_{23} & \\sigma_{24} & \\sigma_{25} \\\\\n",
    " \\sigma_{31} & \\sigma_{32} & \\sigma_{33} & \\sigma_{34} & \\sigma_{35} \\\\\n",
    " \\sigma_{41} & \\sigma_{42} & \\sigma_{43} & \\sigma_{44} & \\sigma_{45} \\\\\n",
    " \\sigma_{51} & \\sigma_{52} & \\sigma_{53} & \\sigma_{54} & \\sigma_{55} \\\\\n",
    " \\end{bmatrix} \\\\\n",
    "$$ \n",
    "\n",
    "$$\n",
    " \\mathbf{j} = \\begin{bmatrix} 1 & 1 & 1 & 1 & 1 \\end{bmatrix} \\\\\n",
    "$$ "
   ]
  },
  {
   "cell_type": "markdown",
   "metadata": {},
   "source": [
    "## Load data"
   ]
  },
  {
   "cell_type": "code",
   "execution_count": 1,
   "metadata": {
    "code_folding": []
   },
   "outputs": [],
   "source": [
    "# load data\n",
    "import pandas as pd\n",
    "pd.options.display.float_format = '{:.4f}'.format\n",
    "import numpy as np\n",
    "from gurobipy import *\n",
    "import math\n",
    "import os\n",
    "import matplotlib.pyplot as plt\n",
    "df = pd.read_csv(\n",
    "    r'C:\\Users\\Ryan Weisner\\Documents\\MSA_ALL\\Optimization\\class project\\stocks.csv')\n",
    "\n",
    "# interactive shell for returning all outputs for each cell\n",
    "from IPython.core.interactiveshell import InteractiveShell\n",
    "InteractiveShell.ast_node_interactivity = \"all\""
   ]
  },
  {
   "cell_type": "markdown",
   "metadata": {},
   "source": [
    "## Inspect data"
   ]
  },
  {
   "cell_type": "code",
   "execution_count": 2,
   "metadata": {
    "code_folding": [
     0
    ]
   },
   "outputs": [
    {
     "data": {
      "text/html": [
       "<div>\n",
       "<style scoped>\n",
       "    .dataframe tbody tr th:only-of-type {\n",
       "        vertical-align: middle;\n",
       "    }\n",
       "\n",
       "    .dataframe tbody tr th {\n",
       "        vertical-align: top;\n",
       "    }\n",
       "\n",
       "    .dataframe thead th {\n",
       "        text-align: right;\n",
       "    }\n",
       "</style>\n",
       "<table border=\"1\" class=\"dataframe\">\n",
       "  <thead>\n",
       "    <tr style=\"text-align: right;\">\n",
       "      <th></th>\n",
       "      <th>Date</th>\n",
       "      <th>STX Close</th>\n",
       "      <th>STX Change</th>\n",
       "      <th>FTV Close</th>\n",
       "      <th>FTV Change</th>\n",
       "      <th>NOW Close</th>\n",
       "      <th>NOW Change</th>\n",
       "      <th>IT Close</th>\n",
       "      <th>IT Change</th>\n",
       "      <th>AMD Close</th>\n",
       "      <th>AMD Change</th>\n",
       "    </tr>\n",
       "  </thead>\n",
       "  <tbody>\n",
       "    <tr>\n",
       "      <th>0</th>\n",
       "      <td>1/2/19</td>\n",
       "      <td>39.0800</td>\n",
       "      <td>0.0127</td>\n",
       "      <td>67.3500</td>\n",
       "      <td>-0.0046</td>\n",
       "      <td>178.3200</td>\n",
       "      <td>0.0056</td>\n",
       "      <td>125.8500</td>\n",
       "      <td>-0.0156</td>\n",
       "      <td>18.8300</td>\n",
       "      <td>0.0200</td>\n",
       "    </tr>\n",
       "    <tr>\n",
       "      <th>1</th>\n",
       "      <td>1/3/19</td>\n",
       "      <td>36.5200</td>\n",
       "      <td>-0.0655</td>\n",
       "      <td>64.6300</td>\n",
       "      <td>-0.0404</td>\n",
       "      <td>169.1200</td>\n",
       "      <td>-0.0516</td>\n",
       "      <td>123.1900</td>\n",
       "      <td>-0.0211</td>\n",
       "      <td>17.0500</td>\n",
       "      <td>-0.0945</td>\n",
       "    </tr>\n",
       "    <tr>\n",
       "      <th>2</th>\n",
       "      <td>1/4/19</td>\n",
       "      <td>38.1400</td>\n",
       "      <td>0.0444</td>\n",
       "      <td>67.4600</td>\n",
       "      <td>0.0438</td>\n",
       "      <td>179.2300</td>\n",
       "      <td>0.0598</td>\n",
       "      <td>126.3600</td>\n",
       "      <td>0.0257</td>\n",
       "      <td>19.0000</td>\n",
       "      <td>0.1144</td>\n",
       "    </tr>\n",
       "    <tr>\n",
       "      <th>3</th>\n",
       "      <td>1/7/19</td>\n",
       "      <td>39.1600</td>\n",
       "      <td>0.0267</td>\n",
       "      <td>67.8000</td>\n",
       "      <td>0.0050</td>\n",
       "      <td>186.6700</td>\n",
       "      <td>0.0415</td>\n",
       "      <td>126.3400</td>\n",
       "      <td>-0.0002</td>\n",
       "      <td>20.5700</td>\n",
       "      <td>0.0826</td>\n",
       "    </tr>\n",
       "    <tr>\n",
       "      <th>4</th>\n",
       "      <td>1/8/19</td>\n",
       "      <td>39.1400</td>\n",
       "      <td>-0.0005</td>\n",
       "      <td>68.1100</td>\n",
       "      <td>0.0046</td>\n",
       "      <td>188.1100</td>\n",
       "      <td>0.0077</td>\n",
       "      <td>128.4600</td>\n",
       "      <td>0.0168</td>\n",
       "      <td>20.7500</td>\n",
       "      <td>0.0088</td>\n",
       "    </tr>\n",
       "  </tbody>\n",
       "</table>\n",
       "</div>"
      ],
      "text/plain": [
       "     Date  STX Close  STX Change   FTV Close  FTV Change   NOW Close  \\\n",
       "0  1/2/19    39.0800       0.0127    67.3500      -0.0046   178.3200   \n",
       "1  1/3/19    36.5200      -0.0655    64.6300      -0.0404   169.1200   \n",
       "2  1/4/19    38.1400       0.0444    67.4600       0.0438   179.2300   \n",
       "3  1/7/19    39.1600       0.0267    67.8000       0.0050   186.6700   \n",
       "4  1/8/19    39.1400      -0.0005    68.1100       0.0046   188.1100   \n",
       "\n",
       "   NOW Change  IT Close  IT Change  AMD Close  AMD Change   \n",
       "0      0.0056  125.8500    -0.0156    18.8300       0.0200  \n",
       "1     -0.0516  123.1900    -0.0211    17.0500      -0.0945  \n",
       "2      0.0598  126.3600     0.0257    19.0000       0.1144  \n",
       "3      0.0415  126.3400    -0.0002    20.5700       0.0826  \n",
       "4      0.0077  128.4600     0.0168    20.7500       0.0088  "
      ]
     },
     "execution_count": 2,
     "metadata": {},
     "output_type": "execute_result"
    }
   ],
   "source": [
    "# inspect data\n",
    "df.head()"
   ]
  },
  {
   "cell_type": "markdown",
   "metadata": {},
   "source": [
    "## Rename columns"
   ]
  },
  {
   "cell_type": "code",
   "execution_count": 3,
   "metadata": {
    "code_folding": [
     0
    ]
   },
   "outputs": [
    {
     "data": {
      "text/html": [
       "<div>\n",
       "<style scoped>\n",
       "    .dataframe tbody tr th:only-of-type {\n",
       "        vertical-align: middle;\n",
       "    }\n",
       "\n",
       "    .dataframe tbody tr th {\n",
       "        vertical-align: top;\n",
       "    }\n",
       "\n",
       "    .dataframe thead th {\n",
       "        text-align: right;\n",
       "    }\n",
       "</style>\n",
       "<table border=\"1\" class=\"dataframe\">\n",
       "  <thead>\n",
       "    <tr style=\"text-align: right;\">\n",
       "      <th></th>\n",
       "      <th>date</th>\n",
       "      <th>stx_price</th>\n",
       "      <th>stx_return</th>\n",
       "      <th>ftv_price</th>\n",
       "      <th>ftv_return</th>\n",
       "      <th>now_price</th>\n",
       "      <th>now_return</th>\n",
       "      <th>it_price</th>\n",
       "      <th>it_return</th>\n",
       "      <th>amd_price</th>\n",
       "      <th>amd_return</th>\n",
       "    </tr>\n",
       "  </thead>\n",
       "  <tbody>\n",
       "    <tr>\n",
       "      <th>0</th>\n",
       "      <td>1/2/19</td>\n",
       "      <td>39.0800</td>\n",
       "      <td>0.0127</td>\n",
       "      <td>67.3500</td>\n",
       "      <td>-0.0046</td>\n",
       "      <td>178.3200</td>\n",
       "      <td>0.0056</td>\n",
       "      <td>125.8500</td>\n",
       "      <td>-0.0156</td>\n",
       "      <td>18.8300</td>\n",
       "      <td>0.0200</td>\n",
       "    </tr>\n",
       "    <tr>\n",
       "      <th>1</th>\n",
       "      <td>1/3/19</td>\n",
       "      <td>36.5200</td>\n",
       "      <td>-0.0655</td>\n",
       "      <td>64.6300</td>\n",
       "      <td>-0.0404</td>\n",
       "      <td>169.1200</td>\n",
       "      <td>-0.0516</td>\n",
       "      <td>123.1900</td>\n",
       "      <td>-0.0211</td>\n",
       "      <td>17.0500</td>\n",
       "      <td>-0.0945</td>\n",
       "    </tr>\n",
       "    <tr>\n",
       "      <th>2</th>\n",
       "      <td>1/4/19</td>\n",
       "      <td>38.1400</td>\n",
       "      <td>0.0444</td>\n",
       "      <td>67.4600</td>\n",
       "      <td>0.0438</td>\n",
       "      <td>179.2300</td>\n",
       "      <td>0.0598</td>\n",
       "      <td>126.3600</td>\n",
       "      <td>0.0257</td>\n",
       "      <td>19.0000</td>\n",
       "      <td>0.1144</td>\n",
       "    </tr>\n",
       "    <tr>\n",
       "      <th>3</th>\n",
       "      <td>1/7/19</td>\n",
       "      <td>39.1600</td>\n",
       "      <td>0.0267</td>\n",
       "      <td>67.8000</td>\n",
       "      <td>0.0050</td>\n",
       "      <td>186.6700</td>\n",
       "      <td>0.0415</td>\n",
       "      <td>126.3400</td>\n",
       "      <td>-0.0002</td>\n",
       "      <td>20.5700</td>\n",
       "      <td>0.0826</td>\n",
       "    </tr>\n",
       "    <tr>\n",
       "      <th>4</th>\n",
       "      <td>1/8/19</td>\n",
       "      <td>39.1400</td>\n",
       "      <td>-0.0005</td>\n",
       "      <td>68.1100</td>\n",
       "      <td>0.0046</td>\n",
       "      <td>188.1100</td>\n",
       "      <td>0.0077</td>\n",
       "      <td>128.4600</td>\n",
       "      <td>0.0168</td>\n",
       "      <td>20.7500</td>\n",
       "      <td>0.0088</td>\n",
       "    </tr>\n",
       "  </tbody>\n",
       "</table>\n",
       "</div>"
      ],
      "text/plain": [
       "     date  stx_price  stx_return  ftv_price  ftv_return  now_price  \\\n",
       "0  1/2/19    39.0800      0.0127    67.3500     -0.0046   178.3200   \n",
       "1  1/3/19    36.5200     -0.0655    64.6300     -0.0404   169.1200   \n",
       "2  1/4/19    38.1400      0.0444    67.4600      0.0438   179.2300   \n",
       "3  1/7/19    39.1600      0.0267    67.8000      0.0050   186.6700   \n",
       "4  1/8/19    39.1400     -0.0005    68.1100      0.0046   188.1100   \n",
       "\n",
       "   now_return  it_price  it_return  amd_price  amd_return  \n",
       "0      0.0056  125.8500    -0.0156    18.8300      0.0200  \n",
       "1     -0.0516  123.1900    -0.0211    17.0500     -0.0945  \n",
       "2      0.0598  126.3600     0.0257    19.0000      0.1144  \n",
       "3      0.0415  126.3400    -0.0002    20.5700      0.0826  \n",
       "4      0.0077  128.4600     0.0168    20.7500      0.0088  "
      ]
     },
     "execution_count": 3,
     "metadata": {},
     "output_type": "execute_result"
    },
    {
     "name": "stdout",
     "output_type": "stream",
     "text": [
      "the data has 273 rows and 11 columns\n"
     ]
    }
   ],
   "source": [
    "df = df.rename(columns = {'Date': 'date', \n",
    "                         'STX Close': 'stx_price',\n",
    "                         'STX Change ': 'stx_return',\n",
    "                         'FTV Close': 'ftv_price',\n",
    "                         'FTV Change ': 'ftv_return',\n",
    "                         'NOW Close': 'now_price',\n",
    "                         'NOW Change': 'now_return',\n",
    "                         'IT Close': 'it_price',\n",
    "                         'IT Change': 'it_return',\n",
    "                         'AMD Close': 'amd_price',\n",
    "                         'AMD Change ': 'amd_return'})\n",
    "\n",
    "df.head()\n",
    "print('the data has {} rows and {} columns'.format(df.shape[0], df.shape[1]))"
   ]
  },
  {
   "cell_type": "markdown",
   "metadata": {},
   "source": [
    "## Check for missing data"
   ]
  },
  {
   "cell_type": "code",
   "execution_count": 4,
   "metadata": {},
   "outputs": [
    {
     "data": {
      "text/plain": [
       "date          0\n",
       "stx_price     0\n",
       "stx_return    0\n",
       "ftv_price     0\n",
       "ftv_return    0\n",
       "now_price     0\n",
       "now_return    0\n",
       "it_price      0\n",
       "it_return     0\n",
       "amd_price     0\n",
       "amd_return    0\n",
       "dtype: int64"
      ]
     },
     "execution_count": 4,
     "metadata": {},
     "output_type": "execute_result"
    }
   ],
   "source": [
    "df.isnull().sum()"
   ]
  },
  {
   "cell_type": "markdown",
   "metadata": {},
   "source": [
    "## Visualize data"
   ]
  },
  {
   "cell_type": "code",
   "execution_count": 5,
   "metadata": {
    "code_folding": [
     0
    ]
   },
   "outputs": [
    {
     "data": {
      "image/png": "[encoded data removed]",
      "text/plain": [
       "<Figure size 504x288 with 1 Axes>"
      ]
     },
     "metadata": {},
     "output_type": "display_data"
    },
    {
     "data": {
      "image/png": "[encoded data removed]",
      "text/plain": [
       "<Figure size 504x288 with 1 Axes>"
      ]
     },
     "metadata": {},
     "output_type": "display_data"
    }
   ],
   "source": [
    "# visualize data\n",
    "import sys\n",
    "if 'seaborn' not in sys.modules:\n",
    "    import seaborn as sns; sns.set()\n",
    "    import matplotlib.pyplot as plt\n",
    "\n",
    "labels = []\n",
    "plt.figure(figsize = (7, 4));\n",
    "# plt.subplot(2,1,1);\n",
    "for col in df.columns:\n",
    "    if 'price' in col:\n",
    "        graph = sns.lineplot(data = df[col]);\n",
    "        labels.append(col)\n",
    "    \n",
    "graph = plt.title('Stock Prices', fontdict= {'fontsize': 20});\n",
    "graph = plt.xlabel('Date');\n",
    "graph = plt.ylabel('Price');\n",
    "graph = plt.legend(labels = labels);\n",
    "\n",
    "labels = []\n",
    "plt.figure(figsize = (7, 4));\n",
    "for col in df.columns:\n",
    "    if 'return' in col:\n",
    "        ret = sns.lineplot(data = df[col]);\n",
    "        labels.append(col)\n",
    "    \n",
    "ret = plt.title('Stock Returns', fontdict= {'fontsize': 20});\n",
    "ret = plt.xlabel('Date');\n",
    "ret = plt.ylabel('Return');\n",
    "ret = plt.legend(labels = labels);"
   ]
  },
  {
   "cell_type": "markdown",
   "metadata": {},
   "source": [
    "## Drop prices from dataframe"
   ]
  },
  {
   "cell_type": "code",
   "execution_count": 6,
   "metadata": {},
   "outputs": [],
   "source": [
    "for col in df.columns:\n",
    "    if 'price' in col:\n",
    "        df = df.drop(columns=col)\n",
    "    if 'date' in col:\n",
    "        df = df.drop(columns=col)\n",
    "\n",
    "df = df.reset_index(drop=True)\n",
    "\n",
    "# stock names, to be used later\n",
    "stocks = ['stx', 'ftv', 'now', 'it', 'amd']"
   ]
  },
  {
   "cell_type": "code",
   "execution_count": 7,
   "metadata": {},
   "outputs": [
    {
     "data": {
      "text/plain": [
       "Index(['stx_return', 'ftv_return', 'now_return', 'it_return', 'amd_return'], dtype='object')"
      ]
     },
     "execution_count": 7,
     "metadata": {},
     "output_type": "execute_result"
    },
    {
     "data": {
      "text/plain": [
       "['stx', 'ftv', 'now', 'it', 'amd']"
      ]
     },
     "execution_count": 7,
     "metadata": {},
     "output_type": "execute_result"
    }
   ],
   "source": [
    "df.columns\n",
    "stocks"
   ]
  },
  {
   "cell_type": "markdown",
   "metadata": {},
   "source": [
    "## Summary statistics"
   ]
  },
  {
   "cell_type": "code",
   "execution_count": 8,
   "metadata": {},
   "outputs": [
    {
     "data": {
      "text/html": [
       "<div>\n",
       "<style scoped>\n",
       "    .dataframe tbody tr th:only-of-type {\n",
       "        vertical-align: middle;\n",
       "    }\n",
       "\n",
       "    .dataframe tbody tr th {\n",
       "        vertical-align: top;\n",
       "    }\n",
       "\n",
       "    .dataframe thead th {\n",
       "        text-align: right;\n",
       "    }\n",
       "</style>\n",
       "<table border=\"1\" class=\"dataframe\">\n",
       "  <thead>\n",
       "    <tr style=\"text-align: right;\">\n",
       "      <th></th>\n",
       "      <th>Mean Returns</th>\n",
       "      <th>Standard Deviation of Returns</th>\n",
       "    </tr>\n",
       "  </thead>\n",
       "  <tbody>\n",
       "    <tr>\n",
       "      <th>stx_return</th>\n",
       "      <td>0.0016</td>\n",
       "      <td>0.0196</td>\n",
       "    </tr>\n",
       "    <tr>\n",
       "      <th>ftv_return</th>\n",
       "      <td>0.0005</td>\n",
       "      <td>0.0138</td>\n",
       "    </tr>\n",
       "    <tr>\n",
       "      <th>now_return</th>\n",
       "      <td>0.0026</td>\n",
       "      <td>0.0224</td>\n",
       "    </tr>\n",
       "    <tr>\n",
       "      <th>it_return</th>\n",
       "      <td>0.0010</td>\n",
       "      <td>0.0164</td>\n",
       "    </tr>\n",
       "    <tr>\n",
       "      <th>amd_return</th>\n",
       "      <td>0.0040</td>\n",
       "      <td>0.0334</td>\n",
       "    </tr>\n",
       "  </tbody>\n",
       "</table>\n",
       "</div>"
      ],
      "text/plain": [
       "            Mean Returns  Standard Deviation of Returns\n",
       "stx_return        0.0016                         0.0196\n",
       "ftv_return        0.0005                         0.0138\n",
       "now_return        0.0026                         0.0224\n",
       "it_return         0.0010                         0.0164\n",
       "amd_return        0.0040                         0.0334"
      ]
     },
     "execution_count": 8,
     "metadata": {},
     "output_type": "execute_result"
    },
    {
     "name": "stdout",
     "output_type": "stream",
     "text": [
      "\t\t\tCovariance Matrix\n"
     ]
    },
    {
     "data": {
      "text/html": [
       "<div>\n",
       "<style scoped>\n",
       "    .dataframe tbody tr th:only-of-type {\n",
       "        vertical-align: middle;\n",
       "    }\n",
       "\n",
       "    .dataframe tbody tr th {\n",
       "        vertical-align: top;\n",
       "    }\n",
       "\n",
       "    .dataframe thead th {\n",
       "        text-align: right;\n",
       "    }\n",
       "</style>\n",
       "<table border=\"1\" class=\"dataframe\">\n",
       "  <thead>\n",
       "    <tr style=\"text-align: right;\">\n",
       "      <th></th>\n",
       "      <th>stx_return</th>\n",
       "      <th>ftv_return</th>\n",
       "      <th>now_return</th>\n",
       "      <th>it_return</th>\n",
       "      <th>amd_return</th>\n",
       "    </tr>\n",
       "  </thead>\n",
       "  <tbody>\n",
       "    <tr>\n",
       "      <th>stx_return</th>\n",
       "      <td>0.0004</td>\n",
       "      <td>0.0001</td>\n",
       "      <td>0.0001</td>\n",
       "      <td>0.0001</td>\n",
       "      <td>0.0003</td>\n",
       "    </tr>\n",
       "    <tr>\n",
       "      <th>ftv_return</th>\n",
       "      <td>0.0001</td>\n",
       "      <td>0.0002</td>\n",
       "      <td>0.0001</td>\n",
       "      <td>0.0001</td>\n",
       "      <td>0.0002</td>\n",
       "    </tr>\n",
       "    <tr>\n",
       "      <th>now_return</th>\n",
       "      <td>0.0001</td>\n",
       "      <td>0.0001</td>\n",
       "      <td>0.0005</td>\n",
       "      <td>0.0001</td>\n",
       "      <td>0.0003</td>\n",
       "    </tr>\n",
       "    <tr>\n",
       "      <th>it_return</th>\n",
       "      <td>0.0001</td>\n",
       "      <td>0.0001</td>\n",
       "      <td>0.0001</td>\n",
       "      <td>0.0003</td>\n",
       "      <td>0.0001</td>\n",
       "    </tr>\n",
       "    <tr>\n",
       "      <th>amd_return</th>\n",
       "      <td>0.0003</td>\n",
       "      <td>0.0002</td>\n",
       "      <td>0.0003</td>\n",
       "      <td>0.0001</td>\n",
       "      <td>0.0011</td>\n",
       "    </tr>\n",
       "  </tbody>\n",
       "</table>\n",
       "</div>"
      ],
      "text/plain": [
       "            stx_return  ftv_return  now_return  it_return  amd_return\n",
       "stx_return      0.0004      0.0001      0.0001     0.0001      0.0003\n",
       "ftv_return      0.0001      0.0002      0.0001     0.0001      0.0002\n",
       "now_return      0.0001      0.0001      0.0005     0.0001      0.0003\n",
       "it_return       0.0001      0.0001      0.0001     0.0003      0.0001\n",
       "amd_return      0.0003      0.0002      0.0003     0.0001      0.0011"
      ]
     },
     "execution_count": 8,
     "metadata": {},
     "output_type": "execute_result"
    }
   ],
   "source": [
    "# summary statistics \n",
    "pd.DataFrame.from_dict({\n",
    "    'Mean Returns': df.mean(), 'Standard Deviation of Returns': df.std()})\n",
    "\n",
    "# summary statistics of the data\n",
    "avg = df.mean()\n",
    "std = df.std()\n",
    "cov = df.cov()\n",
    "\n",
    "print('\\t\\t\\tCovariance Matrix')\n",
    "cov"
   ]
  },
  {
   "cell_type": "markdown",
   "metadata": {},
   "source": [
    "## Initialize model"
   ]
  },
  {
   "cell_type": "code",
   "execution_count": 9,
   "metadata": {
    "scrolled": true
   },
   "outputs": [
    {
     "name": "stdout",
     "output_type": "stream",
     "text": [
      "Using license file C:\\Users\\Ryan Weisner\\gurobi.lic\n",
      "Academic license - for non-commercial use only\n"
     ]
    }
   ],
   "source": [
    "# initialize model\n",
    "from gurobipy import *\n",
    "\n",
    "model = Model('min_risk')\n",
    "\n",
    "# labels and variables for each stock\n",
    "col_names = df.columns\n",
    "variables = pd.Series(model.addVars(col_names), index = col_names)\n",
    "\n",
    "# determine the risk using the covariance matrix\n",
    "port_risk = cov.dot(variables).dot(variables) # returns a gurobipy.QuadExpr object"
   ]
  },
  {
   "cell_type": "markdown",
   "metadata": {},
   "source": [
    "$$\n",
    " \\text{port_risk} = \\mathbf{p \\sigma p^T} = \\begin{bmatrix} p_1 & p_2 & p_3 & p_4 & p_5 \\end{bmatrix}\n",
    " \\begin{bmatrix}\n",
    " \\sigma_{11} & \\sigma_{12} & \\sigma_{13} & \\sigma_{14} & \\sigma_{15} \\\\\n",
    " \\sigma_{21} & \\sigma_{22} & \\sigma_{23} & \\sigma_{24} & \\sigma_{25} \\\\\n",
    " \\sigma_{31} & \\sigma_{32} & \\sigma_{33} & \\sigma_{34} & \\sigma_{35} \\\\\n",
    " \\sigma_{41} & \\sigma_{42} & \\sigma_{43} & \\sigma_{44} & \\sigma_{45} \\\\\n",
    " \\sigma_{51} & \\sigma_{52} & \\sigma_{53} & \\sigma_{54} & \\sigma_{55} \\\\\n",
    " \\end{bmatrix} \n",
    " \\begin{bmatrix} p_1 \\\\ p_2 \\\\ p_3 \\\\ p_4 \\\\ p_5 \\end{bmatrix}\n",
    "$$ \n"
   ]
  },
  {
   "cell_type": "markdown",
   "metadata": {},
   "source": [
    "## Set objective function and constraint"
   ]
  },
  {
   "cell_type": "code",
   "execution_count": 10,
   "metadata": {},
   "outputs": [
    {
     "data": {
      "text/plain": [
       "<gurobi.Constr *Awaiting Model Update*>"
      ]
     },
     "execution_count": 10,
     "metadata": {},
     "output_type": "execute_result"
    }
   ],
   "source": [
    "# objective function\n",
    "model.setObjective(port_risk, GRB.MINIMIZE)\n",
    "\n",
    "# constraints\n",
    "# weights add up to 1\n",
    "model.addConstr(variables.sum() == 1, 'weights')\n",
    "model.update()\n",
    "\n",
    "# mute output from model.optimize()\n",
    "model.setParam('OutputFlag', 0) \n",
    "model.update()\n",
    "\n",
    "# optimize model, find minimum risk portfolio while investing in each of the stocks\n",
    "model.optimize()"
   ]
  },
  {
   "cell_type": "code",
   "execution_count": 11,
   "metadata": {},
   "outputs": [
    {
     "name": "stdout",
     "output_type": "stream",
     "text": [
      "\n",
      "Min Risk, Optimal Weights Per Stock\n",
      "------\n"
     ]
    },
    {
     "data": {
      "text/html": [
       "<div>\n",
       "<style scoped>\n",
       "    .dataframe tbody tr th:only-of-type {\n",
       "        vertical-align: middle;\n",
       "    }\n",
       "\n",
       "    .dataframe tbody tr th {\n",
       "        vertical-align: top;\n",
       "    }\n",
       "\n",
       "    .dataframe thead th {\n",
       "        text-align: right;\n",
       "    }\n",
       "</style>\n",
       "<table border=\"1\" class=\"dataframe\">\n",
       "  <thead>\n",
       "    <tr style=\"text-align: right;\">\n",
       "      <th></th>\n",
       "      <th>Weights</th>\n",
       "    </tr>\n",
       "  </thead>\n",
       "  <tbody>\n",
       "    <tr>\n",
       "      <th>stx_return</th>\n",
       "      <td>0.0956</td>\n",
       "    </tr>\n",
       "    <tr>\n",
       "      <th>ftv_return</th>\n",
       "      <td>0.5083</td>\n",
       "    </tr>\n",
       "    <tr>\n",
       "      <th>now_return</th>\n",
       "      <td>0.0750</td>\n",
       "    </tr>\n",
       "    <tr>\n",
       "      <th>it_return</th>\n",
       "      <td>0.3210</td>\n",
       "    </tr>\n",
       "    <tr>\n",
       "      <th>amd_return</th>\n",
       "      <td>0.0000</td>\n",
       "    </tr>\n",
       "  </tbody>\n",
       "</table>\n",
       "</div>"
      ],
      "text/plain": [
       "            Weights\n",
       "stx_return   0.0956\n",
       "ftv_return   0.5083\n",
       "now_return   0.0750\n",
       "it_return    0.3210\n",
       "amd_return   0.0000"
      ]
     },
     "execution_count": 11,
     "metadata": {},
     "output_type": "execute_result"
    }
   ],
   "source": [
    "# display stocks and respective weights\n",
    "n = 0\n",
    "weights = {}\n",
    "for v in variables:\n",
    "    weights.update({col_names[n]:v.x}) # v.x gets the optimum weight for variable v\n",
    "    n = n + 1\n",
    "weights = pd.DataFrame([weights])\n",
    "weights = weights.transpose()\n",
    "weights.columns = ['Weights']\n",
    "\n",
    "print('\\nMin Risk, Optimal Weights Per Stock\\n------')\n",
    "weights"
   ]
  },
  {
   "cell_type": "code",
   "execution_count": 12,
   "metadata": {},
   "outputs": [
    {
     "data": {
      "text/html": [
       "<div>\n",
       "<style scoped>\n",
       "    .dataframe tbody tr th:only-of-type {\n",
       "        vertical-align: middle;\n",
       "    }\n",
       "\n",
       "    .dataframe tbody tr th {\n",
       "        vertical-align: top;\n",
       "    }\n",
       "\n",
       "    .dataframe thead th {\n",
       "        text-align: right;\n",
       "    }\n",
       "</style>\n",
       "<table border=\"1\" class=\"dataframe\">\n",
       "  <thead>\n",
       "    <tr style=\"text-align: right;\">\n",
       "      <th></th>\n",
       "      <th>Avg Return</th>\n",
       "      <th>Std</th>\n",
       "      <th>Weights</th>\n",
       "    </tr>\n",
       "  </thead>\n",
       "  <tbody>\n",
       "    <tr>\n",
       "      <th>stx_return</th>\n",
       "      <td>0.0016</td>\n",
       "      <td>0.0196</td>\n",
       "      <td>0.0956</td>\n",
       "    </tr>\n",
       "    <tr>\n",
       "      <th>ftv_return</th>\n",
       "      <td>0.0005</td>\n",
       "      <td>0.0138</td>\n",
       "      <td>0.5083</td>\n",
       "    </tr>\n",
       "    <tr>\n",
       "      <th>now_return</th>\n",
       "      <td>0.0026</td>\n",
       "      <td>0.0224</td>\n",
       "      <td>0.0750</td>\n",
       "    </tr>\n",
       "    <tr>\n",
       "      <th>it_return</th>\n",
       "      <td>0.0010</td>\n",
       "      <td>0.0164</td>\n",
       "      <td>0.3210</td>\n",
       "    </tr>\n",
       "    <tr>\n",
       "      <th>amd_return</th>\n",
       "      <td>0.0040</td>\n",
       "      <td>0.0334</td>\n",
       "      <td>0.0000</td>\n",
       "    </tr>\n",
       "  </tbody>\n",
       "</table>\n",
       "</div>"
      ],
      "text/plain": [
       "            Avg Return    Std  Weights\n",
       "stx_return      0.0016 0.0196   0.0956\n",
       "ftv_return      0.0005 0.0138   0.5083\n",
       "now_return      0.0026 0.0224   0.0750\n",
       "it_return       0.0010 0.0164   0.3210\n",
       "amd_return      0.0040 0.0334   0.0000"
      ]
     },
     "execution_count": 12,
     "metadata": {},
     "output_type": "execute_result"
    }
   ],
   "source": [
    "# organize dataframes\n",
    "main = pd.concat([avg,std,weights],axis=1)\n",
    "main.columns = ['Avg Return','Std','Weights']\n",
    "main"
   ]
  },
  {
   "cell_type": "code",
   "execution_count": 13,
   "metadata": {},
   "outputs": [
    {
     "name": "stdout",
     "output_type": "stream",
     "text": [
      "\n",
      "Minimized Portfolio Variance, Given W > 0 :\n",
      "------\n",
      "0.00013728555710328862\n",
      "\n",
      "\n",
      "Volatility (Standard Deviation of Variance):\n",
      "------\n",
      "0.011716891955774305\n",
      "\n",
      "\n",
      "Expected Return, Given Optimized Weights (Rmin):\n",
      "------\n",
      "0.000905797819906625\n"
     ]
    }
   ],
   "source": [
    "# minimum risk values\n",
    "\n",
    "# optimal objective value\n",
    "print('\\nMinimized Portfolio Variance, Given W > 0 :\\n------\\n' + str(port_risk.getValue())) # variance \n",
    "\n",
    "# volatility\n",
    "min_vol = math.sqrt(port_risk.getValue()) # standard deviation \n",
    "print('\\n\\nVolatility (Standard Deviation of Variance):\\n------\\n' + str(min_vol))\n",
    "\n",
    "# expected return using optimized weights\n",
    "port_return = avg.dot(variables)\n",
    "Rmin = port_return.getValue() # this is the minimum return as well, because we minimized the risk first \n",
    "print('\\n\\nExpected Return, Given Optimized Weights (Rmin):\\n------\\n' + str(Rmin))"
   ]
  },
  {
   "cell_type": "markdown",
   "metadata": {},
   "source": [
    "## Calculate Values of Efficient Frontier"
   ]
  },
  {
   "cell_type": "code",
   "execution_count": 14,
   "metadata": {},
   "outputs": [
    {
     "name": "stdout",
     "output_type": "stream",
     "text": [
      "\n",
      "Efficient Frontier\n"
     ]
    },
    {
     "data": {
      "text/html": [
       "<div>\n",
       "<style scoped>\n",
       "    .dataframe tbody tr th:only-of-type {\n",
       "        vertical-align: middle;\n",
       "    }\n",
       "\n",
       "    .dataframe tbody tr th {\n",
       "        vertical-align: top;\n",
       "    }\n",
       "\n",
       "    .dataframe thead th {\n",
       "        text-align: right;\n",
       "    }\n",
       "</style>\n",
       "<table border=\"1\" class=\"dataframe\">\n",
       "  <thead>\n",
       "    <tr style=\"text-align: right;\">\n",
       "      <th></th>\n",
       "      <th>0</th>\n",
       "      <th>1</th>\n",
       "      <th>2</th>\n",
       "      <th>3</th>\n",
       "      <th>4</th>\n",
       "      <th>5</th>\n",
       "      <th>6</th>\n",
       "      <th>7</th>\n",
       "      <th>8</th>\n",
       "      <th>9</th>\n",
       "      <th>...</th>\n",
       "      <th>40</th>\n",
       "      <th>41</th>\n",
       "      <th>42</th>\n",
       "      <th>43</th>\n",
       "      <th>44</th>\n",
       "      <th>45</th>\n",
       "      <th>46</th>\n",
       "      <th>47</th>\n",
       "      <th>48</th>\n",
       "      <th>49</th>\n",
       "    </tr>\n",
       "  </thead>\n",
       "  <tbody>\n",
       "    <tr>\n",
       "      <th>Returns</th>\n",
       "      <td>0.0009</td>\n",
       "      <td>0.0010</td>\n",
       "      <td>0.0010</td>\n",
       "      <td>0.0011</td>\n",
       "      <td>0.0012</td>\n",
       "      <td>0.0012</td>\n",
       "      <td>0.0013</td>\n",
       "      <td>0.0013</td>\n",
       "      <td>0.0014</td>\n",
       "      <td>0.0015</td>\n",
       "      <td>...</td>\n",
       "      <td>0.0034</td>\n",
       "      <td>0.0035</td>\n",
       "      <td>0.0035</td>\n",
       "      <td>0.0036</td>\n",
       "      <td>0.0037</td>\n",
       "      <td>0.0037</td>\n",
       "      <td>0.0038</td>\n",
       "      <td>0.0038</td>\n",
       "      <td>0.0039</td>\n",
       "      <td>0.0040</td>\n",
       "    </tr>\n",
       "    <tr>\n",
       "      <th>Risk</th>\n",
       "      <td>0.0117</td>\n",
       "      <td>0.0117</td>\n",
       "      <td>0.0118</td>\n",
       "      <td>0.0119</td>\n",
       "      <td>0.0120</td>\n",
       "      <td>0.0121</td>\n",
       "      <td>0.0123</td>\n",
       "      <td>0.0124</td>\n",
       "      <td>0.0126</td>\n",
       "      <td>0.0128</td>\n",
       "      <td>...</td>\n",
       "      <td>0.0251</td>\n",
       "      <td>0.0258</td>\n",
       "      <td>0.0266</td>\n",
       "      <td>0.0275</td>\n",
       "      <td>0.0284</td>\n",
       "      <td>0.0293</td>\n",
       "      <td>0.0303</td>\n",
       "      <td>0.0313</td>\n",
       "      <td>0.0324</td>\n",
       "      <td>0.0334</td>\n",
       "    </tr>\n",
       "  </tbody>\n",
       "</table>\n",
       "<p>2 rows × 50 columns</p>\n",
       "</div>"
      ],
      "text/plain": [
       "            0      1      2      3      4      5      6      7      8      9   \\\n",
       "Returns 0.0009 0.0010 0.0010 0.0011 0.0012 0.0012 0.0013 0.0013 0.0014 0.0015   \n",
       "Risk    0.0117 0.0117 0.0118 0.0119 0.0120 0.0121 0.0123 0.0124 0.0126 0.0128   \n",
       "\n",
       "         ...     40     41     42     43     44     45     46     47     48  \\\n",
       "Returns  ... 0.0034 0.0035 0.0035 0.0036 0.0037 0.0037 0.0038 0.0038 0.0039   \n",
       "Risk     ... 0.0251 0.0258 0.0266 0.0275 0.0284 0.0293 0.0303 0.0313 0.0324   \n",
       "\n",
       "            49  \n",
       "Returns 0.0040  \n",
       "Risk    0.0334  \n",
       "\n",
       "[2 rows x 50 columns]"
      ]
     },
     "execution_count": 14,
     "metadata": {},
     "output_type": "execute_result"
    }
   ],
   "source": [
    "# maximum return value among all stocks\n",
    "Rmax = avg.max()\n",
    "\n",
    "# constraint for returns\n",
    "target = model.addConstr(port_return >= .0005, 'target')\n",
    "\n",
    "# set right hand side of target value for returns\n",
    "# iterate through the range of returns from Rmin to Rmax, minimizing the risk for each return value\n",
    "eff = {}\n",
    "iterations = 50\n",
    "diff = (Rmax-Rmin)/(iterations-1)\n",
    "Rrange = np.arange(Rmin, Rmax+diff, diff) # range of returns, from Rmin to Rmax, where each step = diff\n",
    "for r in Rrange:\n",
    "    target.rhs = r\n",
    "    model.optimize()\n",
    "    temp = math.sqrt(port_risk.getValue()) # standard deviation of the portfolio variance for the given rate of return r\n",
    "    eff.update({temp:r})\n",
    "\n",
    "# organize dataframe for efficient frontier\n",
    "frontier = pd.DataFrame([eff]).transpose()\n",
    "frontier.columns = ['Returns']\n",
    "frontier['Risk'] = frontier.index\n",
    "frontier = frontier.reset_index(drop=True)\n",
    "\n",
    "# output and save values of efficient frontier\n",
    "print('\\nEfficient Frontier')\n",
    "frontier.T"
   ]
  },
  {
   "cell_type": "markdown",
   "metadata": {},
   "source": [
    "## Sharpe Ratio"
   ]
  },
  {
   "cell_type": "code",
   "execution_count": 15,
   "metadata": {},
   "outputs": [
    {
     "name": "stdout",
     "output_type": "stream",
     "text": [
      "\n",
      "Maximum Sharpe Ratio\n"
     ]
    },
    {
     "data": {
      "text/html": [
       "<div>\n",
       "<style scoped>\n",
       "    .dataframe tbody tr th:only-of-type {\n",
       "        vertical-align: middle;\n",
       "    }\n",
       "\n",
       "    .dataframe tbody tr th {\n",
       "        vertical-align: top;\n",
       "    }\n",
       "\n",
       "    .dataframe thead th {\n",
       "        text-align: right;\n",
       "    }\n",
       "</style>\n",
       "<table border=\"1\" class=\"dataframe\">\n",
       "  <thead>\n",
       "    <tr style=\"text-align: right;\">\n",
       "      <th></th>\n",
       "      <th>Returns</th>\n",
       "      <th>Risk</th>\n",
       "      <th>Sharpe</th>\n",
       "    </tr>\n",
       "  </thead>\n",
       "  <tbody>\n",
       "    <tr>\n",
       "      <th>0</th>\n",
       "      <td>0.0027</td>\n",
       "      <td>0.0194</td>\n",
       "      <td>0.1404</td>\n",
       "    </tr>\n",
       "  </tbody>\n",
       "</table>\n",
       "</div>"
      ],
      "text/plain": [
       "   Returns   Risk  Sharpe\n",
       "0   0.0027 0.0194  0.1404"
      ]
     },
     "execution_count": 15,
     "metadata": {},
     "output_type": "execute_result"
    },
    {
     "name": "stdout",
     "output_type": "stream",
     "text": [
      "\n",
      "Stock weights that correspond to the max sharpe ratio\n",
      "\n"
     ]
    },
    {
     "data": {
      "text/html": [
       "<div>\n",
       "<style scoped>\n",
       "    .dataframe tbody tr th:only-of-type {\n",
       "        vertical-align: middle;\n",
       "    }\n",
       "\n",
       "    .dataframe tbody tr th {\n",
       "        vertical-align: top;\n",
       "    }\n",
       "\n",
       "    .dataframe thead th {\n",
       "        text-align: right;\n",
       "    }\n",
       "</style>\n",
       "<table border=\"1\" class=\"dataframe\">\n",
       "  <thead>\n",
       "    <tr style=\"text-align: right;\">\n",
       "      <th></th>\n",
       "      <th>Weights</th>\n",
       "    </tr>\n",
       "  </thead>\n",
       "  <tbody>\n",
       "    <tr>\n",
       "      <th>stx</th>\n",
       "      <td>0.1510</td>\n",
       "    </tr>\n",
       "    <tr>\n",
       "      <th>ftv</th>\n",
       "      <td>0.0000</td>\n",
       "    </tr>\n",
       "    <tr>\n",
       "      <th>now</th>\n",
       "      <td>0.4508</td>\n",
       "    </tr>\n",
       "    <tr>\n",
       "      <th>it</th>\n",
       "      <td>0.0955</td>\n",
       "    </tr>\n",
       "    <tr>\n",
       "      <th>amd</th>\n",
       "      <td>0.3027</td>\n",
       "    </tr>\n",
       "  </tbody>\n",
       "</table>\n",
       "</div>"
      ],
      "text/plain": [
       "     Weights\n",
       "stx   0.1510\n",
       "ftv   0.0000\n",
       "now   0.4508\n",
       "it    0.0955\n",
       "amd   0.3027"
      ]
     },
     "execution_count": 15,
     "metadata": {},
     "output_type": "execute_result"
    }
   ],
   "source": [
    "# calculate sharpe ratio\n",
    "frontier['Sharpe'] = frontier['Returns']/frontier['Risk']\n",
    "\n",
    "# determine largest sharpe ratio\n",
    "idx = frontier['Sharpe'].max()\n",
    "sharpeMax = frontier.loc[frontier['Sharpe'] == idx]\n",
    "sharpeMax = sharpeMax.reset_index(drop=True)\n",
    "\n",
    "# determine stock weights that correspond to the max sharpe ratio\n",
    "target.rhs = sharpeMax['Returns'][0]\n",
    "model.optimize()\n",
    "\n",
    "n = 0\n",
    "sharpe_weights = {}\n",
    "for v in variables:\n",
    "    sharpe_weights.update({col_names[n]:v.x})\n",
    "    n = n + 1\n",
    "sharpe_weights = pd.DataFrame([sharpe_weights])\n",
    "sharpe_weights = sharpe_weights.transpose()\n",
    "sharpe_weights.columns = ['Weights']\n",
    "sharpe_weights.index = stocks\n",
    "\n",
    "# display and save max sharpe values\n",
    "print('\\nMaximum Sharpe Ratio')\n",
    "sharpeMax\n",
    "\n",
    "print('\\nStock weights that correspond to the max sharpe ratio\\n')\n",
    "sharpe_weights"
   ]
  },
  {
   "cell_type": "code",
   "execution_count": 17,
   "metadata": {},
   "outputs": [
    {
     "data": {
      "image/png": "[encoded data removed]",
      "text/plain": [
       "<Figure size 576x504 with 1 Axes>"
      ]
     },
     "metadata": {},
     "output_type": "display_data"
    }
   ],
   "source": [
    "# plot of the efficient frontier from Rmin to Rmax\n",
    "# initialize plot, set labels\n",
    "fig, ax = plt.subplots(nrows=1,ncols=1);\n",
    "fig.set_size_inches(8,7);\n",
    "ax.set_title('Efficient Frontier',fontsize=20);\n",
    "ax.set_xlabel('Risk',fontsize=14);\n",
    "ax.set_ylabel('Return',fontsize=14);\n",
    "\n",
    "# plot the efficient frontier\n",
    "# do this first to allow individual points later on to overlay\n",
    "ax.scatter(x=frontier['Risk'],y=frontier['Returns'],color='orange',label='Efficient Frontier');\n",
    "ax.plot(frontier['Risk'],frontier['Returns'],color='orange');\n",
    "temp = pd.DataFrame([eff]).transpose()\n",
    "temp.columns = ['Efficient Frontier'];\n",
    "temp.plot(color='orange',label='Efficient Frontier',ax=ax);\n",
    "\n",
    "# average return/volatility for each individual stock\n",
    "ax.scatter(x=std,y=avg,color='green',label='Stocks');\n",
    "i = 0\n",
    "for stock in stocks:\n",
    "    ax.annotate(stock,(std[i],avg[i]))\n",
    "    i = i + 1\n",
    "\n",
    "# show the minimum risk portfolio\n",
    "ax.scatter(x=min_vol,y=Rmin,color='blue',label='Optimal');\n",
    "ax.annotate('Min. Risk',(min_vol,Rmin));\n",
    "\n",
    "# show maximum sharpe value\n",
    "ax.scatter(x=sharpeMax['Risk'],y=sharpeMax['Returns'],color='red',label='Max Sharpe');\n",
    "ax.annotate('Max Sharpe',(sharpeMax['Risk'],sharpeMax['Returns']));\n",
    "\n",
    "# additional edits to the graph\n",
    "ax.grid();\n",
    "ax.legend(loc='upper left');\n",
    "ax.set_ylim(0, .0045);\n",
    "ax.set_xlim(.01, .04);"
   ]
  }
 ],
 "metadata": {
  "kernelspec": {
   "display_name": "Python 3",
   "language": "python",
   "name": "python3"
  },
  "language_info": {
   "codemirror_mode": {
    "name": "ipython",
    "version": 3
   },
   "file_extension": ".py",
   "mimetype": "text/x-python",
   "name": "python",
   "nbconvert_exporter": "python",
   "pygments_lexer": "ipython3",
   "version": "3.7.4"
  },
  "toc": {
   "base_numbering": 1,
   "nav_menu": {},
   "number_sections": false,
   "sideBar": true,
   "skip_h1_title": false,
   "title_cell": "Table of Contents",
   "title_sidebar": "Contents",
   "toc_cell": false,
   "toc_position": {},
   "toc_section_display": true,
   "toc_window_display": false
  },
  "varInspector": {
   "cols": {
    "lenName": 16,
    "lenType": 16,
    "lenVar": 40
   },
   "kernels_config": {
    "python": {
     "delete_cmd_postfix": "",
     "delete_cmd_prefix": "del ",
     "library": "var_list.py",
     "varRefreshCmd": "print(var_dic_list())"
    },
    "r": {
     "delete_cmd_postfix": ") ",
     "delete_cmd_prefix": "rm(",
     "library": "var_list.r",
     "varRefreshCmd": "cat(var_dic_list()) "
    }
   },
   "types_to_exclude": [
    "module",
    "function",
    "builtin_function_or_method",
    "instance",
    "_Feature"
   ],
   "window_display": false
  }
 },
 "nbformat": 4,
 "nbformat_minor": 2
}
